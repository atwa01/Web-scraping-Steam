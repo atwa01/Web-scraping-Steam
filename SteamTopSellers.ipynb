{
 "cells": [
  {
   "cell_type": "code",
   "execution_count": 60,
   "id": "ca939fa8",
   "metadata": {},
   "outputs": [],
   "source": [
    "import pandas as pd\n",
    "import requests\n",
    "from bs4 import BeautifulSoup\n",
    "import json"
   ]
  },
  {
   "cell_type": "code",
   "execution_count": 61,
   "id": "9adff484",
   "metadata": {},
   "outputs": [],
   "source": [
    "url = 'https://store.steampowered.com/search/results/?query&start=0&count=50&dynamic_data=&force_infinite=1&tags=19&filter=topsellers&snr=1_7_7_7000_7&infinite=1'"
   ]
  },
  {
   "cell_type": "code",
   "execution_count": 62,
   "id": "7fe92a9f",
   "metadata": {},
   "outputs": [],
   "source": [
    "def totalresults(url):\n",
    "    r = requests.get(url)\n",
    "    data = dict(r.json())\n",
    "    totalresults = data['total_count']\n",
    "    return int(totalresults)"
   ]
  },
  {
   "cell_type": "code",
   "execution_count": 63,
   "id": "2fa0d748",
   "metadata": {},
   "outputs": [],
   "source": [
    "def get_data(url):\n",
    "    r = requests.get(url)\n",
    "    data = dict(r.json())\n",
    "    return data['results_html']\n"
   ]
  },
  {
   "cell_type": "code",
   "execution_count": 74,
   "id": "a7d61521",
   "metadata": {},
   "outputs": [
    {
     "name": "stdout",
     "output_type": "stream",
     "text": [
      "[{'title': 'Call of Duty®: Black Ops III - Season Pass', 'original_price': '49.99', 'discount_price': '49.99'}, {'title': 'Eastward', 'original_price': '24.99', 'discount_price': '24.99'}, {'title': 'Door Kickers', 'original_price': '19.99', 'discount_price': '4.99'}, {'title': 'Monster Hunter Rise: Sunbreak Deluxe Kit', 'original_price': '14.99', 'discount_price': '11.24'}, {'title': 'Ancient Dungeon', 'original_price': '19.99', 'discount_price': '19.99'}, {'title': 'Project CARS 3', 'original_price': '59.99', 'discount_price': '59.99'}, {'title': 'Dungeons & Dragons: Dark Alliance', 'original_price': '29.99', 'discount_price': '29.99'}, {'title': 'Call of Duty® 4: Modern Warfare®', 'original_price': '19.99', 'discount_price': '19.99'}, {'title': 'Call of Duty®: Black Ops III - Revelations Zombies Map', 'original_price': '7.99', 'discount_price': '7.99'}, {'title': 'Sonic Generations Collection', 'original_price': '19.99', 'discount_price': '19.99'}, {'title': 'SCARLET NEXUS Season Pass', 'original_price': '19.99', 'discount_price': '9.99'}, {'title': 'Conan Exiles - The Savage Frontier Pack', 'original_price': '9.99', 'discount_price': '9.99'}, {'title': 'SpellForce 3 Loyalty Pack', 'original_price': '59.97', 'discount_price': '59.97'}, {'title': 'Groove Coaster Non-Stop Mix', 'original_price': '179.76', 'discount_price': '179.76'}, {'title': 'WARRIORS ALL-STARS', 'original_price': '59.99', 'discount_price': '14.99'}, {'title': 'Dead by Daylight - Survivor Expansion Pack', 'original_price': '29.99', 'discount_price': '29.99'}, {'title': 'Beyond The Wire', 'original_price': '34.99', 'discount_price': '34.99'}, {'title': \"FIVE NIGHTS AT FREDDY'S: HELP WANTED\", 'original_price': '29.99', 'discount_price': '29.99'}, {'title': 'Conan Exiles - Debaucheries of Derketo Pack', 'original_price': '9.99', 'discount_price': '9.99'}, {'title': 'Drug Dealer Simulator', 'original_price': '19.99', 'discount_price': '6.79'}, {'title': 'Blasphemous Digital Deluxe Edition', 'original_price': '37.95', 'discount_price': '11.43'}, {'title': 'Dungeon Defenders Awakened and Going Rogue', 'original_price': '44.98', 'discount_price': '15.00'}, {'title': 'GGST Additional Character 6 - Bridget', 'original_price': '6.99', 'discount_price': '6.99'}, {'title': 'Saints Row®: The Third™ Remastered', 'original_price': '39.99', 'discount_price': '39.99'}, {'title': 'Cooking Simulator VR', 'original_price': '24.99', 'discount_price': '24.99'}, {'title': 'Battlefield™ Hardline', 'original_price': '39.99', 'discount_price': '9.99'}, {'title': 'Dying Light Definitive DLC Collection', 'original_price': '23.10', 'discount_price': '23.10'}, {'title': 'Streets of Rogue', 'original_price': '19.99', 'discount_price': '19.99'}, {'title': 'POPULATION: ONE', 'original_price': '29.99', 'discount_price': '29.99'}, {'title': 'Conan Exiles - Riders of Hyboria Pack', 'original_price': '9.99', 'discount_price': '9.99'}, {'title': 'Star Valor', 'original_price': '24.99', 'discount_price': '24.99'}, {'title': 'Hunt: Showdown - Live by the Blade', 'original_price': '9.99', 'discount_price': '3.99'}, {'title': 'The Greatest Penguin Heist of All Time', 'original_price': '14.99', 'discount_price': '14.99'}, {'title': 'War Mongrels', 'original_price': '44.99', 'discount_price': '25.19'}, {'title': 'Deep Rock Galactic - Robot Rebellion Pack', 'original_price': '7.99', 'discount_price': '5.59'}, {'title': 'SOULCALIBUR VI Season Pass', 'original_price': '29.99', 'discount_price': '8.99'}, {'title': 'Dragon Marked For Death', 'original_price': '39.99', 'discount_price': '19.99'}, {'title': 'Onward', 'original_price': '24.99', 'discount_price': '24.99'}, {'title': 'Elite Dangerous: Commander Premium Edition', 'original_price': '64.99', 'discount_price': '64.99'}, {'title': 'Shredders', 'original_price': '29.99', 'discount_price': '29.99'}, {'title': 'Sniper Elite 5 : Landing Force Mission and Weapon Pack', 'original_price': '14.99', 'discount_price': '14.99'}, {'title': 'Kiwi Clicker - Juiced Up', 'original_price': '4.99', 'discount_price': '4.99'}, {'title': 'Metro Exodus', 'original_price': '29.99', 'discount_price': '29.99'}, {'title': 'Valkyria Chronicles Bundle', 'original_price': '62.98', 'discount_price': '62.98'}, {'title': 'Lost Judgment - The Kaito Files Story Expansion', 'original_price': '29.99', 'discount_price': '29.99'}, {'title': 'Chivalry 2 Special Edition', 'original_price': '49.98', 'discount_price': '49.98'}, {'title': 'COMPOUND', 'original_price': '19.99', 'discount_price': '19.99'}, {'title': 'Mortal Kombat XL', 'original_price': '29.99', 'discount_price': '29.99'}, {'title': 'Dying Light Definitive Edition', 'original_price': '49.99', 'discount_price': '49.99'}, {'title': 'Fe', 'original_price': '19.99', 'discount_price': '4.99'}]\n"
     ]
    }
   ],
   "source": [
    "def parse(data):\n",
    "    gameslist=[]\n",
    "    soup = BeautifulSoup(data,'html.parser')\n",
    "    games = soup.find_all(\"a\")\n",
    "    for game in games:\n",
    "        title = game.find(\"span\",class_ = \"title\").text\n",
    "        try:\n",
    "            original_price = game.find(\"div\",class_='search_price').text.strip().split('$')[1]\n",
    "        except:\n",
    "            continue\n",
    "        try:\n",
    "            discount_price = game.find(\"div\",class_='search_price').text.strip().split('$')[2]\n",
    "        except:\n",
    "            discount_price = original_price\n",
    "        #print(title,original_price,discount_price)\n",
    "        dict_of_games = {'title':title,\n",
    "                         'original_price':original_price,\n",
    "                         'discount_price': discount_price\n",
    "                        }\n",
    "        gameslist.append(dict_of_games)\n",
    "    return gameslist\n",
    "\n",
    "print(parse(data))\n"
   ]
  },
  {
   "cell_type": "code",
   "execution_count": 65,
   "id": "059b8d0b",
   "metadata": {},
   "outputs": [],
   "source": [
    "def output(results):\n",
    "    df = pd.concat([pd.DataFrame(g) for g in results])\n",
    "    df.to_csv(\"Steam_TopSeller1.csv\",index = False)\n",
    "    print(\"Finished, Saved to CSV\")\n",
    "    print(df.head())\n",
    "    return"
   ]
  },
  {
   "cell_type": "code",
   "execution_count": 76,
   "id": "54225fc6",
   "metadata": {},
   "outputs": [
    {
     "name": "stdout",
     "output_type": "stream",
     "text": [
      "Results Scrape: 0\n",
      "Results Scrape: 50\n",
      "Results Scrape: 100\n",
      "Results Scrape: 150\n",
      "Results Scrape: 200\n",
      "Results Scrape: 250\n",
      "Results Scrape: 300\n",
      "Results Scrape: 350\n",
      "Results Scrape: 400\n",
      "Results Scrape: 450\n",
      "Results Scrape: 500\n",
      "Results Scrape: 550\n",
      "Results Scrape: 600\n",
      "Results Scrape: 650\n",
      "Results Scrape: 700\n",
      "Results Scrape: 750\n",
      "Results Scrape: 800\n",
      "Results Scrape: 850\n",
      "Results Scrape: 900\n",
      "Results Scrape: 950\n",
      "Results Scrape: 1000\n",
      "Results Scrape: 1050\n",
      "Results Scrape: 1100\n",
      "Results Scrape: 1150\n",
      "Results Scrape: 1200\n",
      "Results Scrape: 1250\n",
      "Results Scrape: 1300\n",
      "Results Scrape: 1350\n",
      "Results Scrape: 1400\n",
      "Results Scrape: 1450\n",
      "Results Scrape: 1500\n",
      "Results Scrape: 1550\n",
      "Results Scrape: 1600\n",
      "Results Scrape: 1650\n",
      "Results Scrape: 1700\n",
      "Results Scrape: 1750\n",
      "Results Scrape: 1800\n",
      "Results Scrape: 1850\n",
      "Results Scrape: 1900\n",
      "Results Scrape: 1950\n",
      "Results Scrape: 2000\n",
      "Results Scrape: 2050\n",
      "Results Scrape: 2100\n",
      "Results Scrape: 2150\n",
      "Results Scrape: 2200\n",
      "Results Scrape: 2250\n",
      "Results Scrape: 2300\n",
      "Results Scrape: 2350\n",
      "Results Scrape: 2400\n",
      "Results Scrape: 2450\n",
      "Results Scrape: 2500\n",
      "Results Scrape: 2550\n",
      "Results Scrape: 2600\n",
      "Results Scrape: 2650\n",
      "Results Scrape: 2700\n",
      "Results Scrape: 2750\n",
      "Results Scrape: 2800\n",
      "Results Scrape: 2850\n",
      "Results Scrape: 2900\n",
      "Results Scrape: 2950\n",
      "Results Scrape: 3000\n",
      "Results Scrape: 3050\n",
      "Results Scrape: 3100\n",
      "Results Scrape: 3150\n",
      "Results Scrape: 3200\n",
      "Results Scrape: 3250\n",
      "Results Scrape: 3300\n",
      "Results Scrape: 3350\n",
      "Results Scrape: 3400\n",
      "Results Scrape: 3450\n",
      "Results Scrape: 3500\n",
      "Results Scrape: 3550\n",
      "Results Scrape: 3600\n",
      "Results Scrape: 3650\n",
      "Results Scrape: 3700\n",
      "Results Scrape: 3750\n",
      "Results Scrape: 3800\n",
      "Results Scrape: 3850\n",
      "Results Scrape: 3900\n",
      "Results Scrape: 3950\n",
      "Results Scrape: 4000\n",
      "Results Scrape: 4050\n",
      "Results Scrape: 4100\n",
      "Results Scrape: 4150\n",
      "Results Scrape: 4200\n",
      "Results Scrape: 4250\n",
      "Results Scrape: 4300\n",
      "Results Scrape: 4350\n",
      "Results Scrape: 4400\n",
      "Results Scrape: 4450\n",
      "Results Scrape: 4500\n",
      "Results Scrape: 4550\n",
      "Results Scrape: 4600\n"
     ]
    }
   ],
   "source": [
    "results = []\n",
    "for x in range(0,totalresults(url),50):\n",
    "    data = get_data('https://store.steampowered.com/search/results/?query&start={}&count=50&dynamic_data=&force_infinite=1&tags=19&filter=topsellers&snr=1_7_7_7000_7&infinite=1'.format(x))\n",
    "    results.append(parse(data))\n",
    "    print('Results Scrape:',x)"
   ]
  },
  {
   "cell_type": "code",
   "execution_count": 77,
   "id": "2c72f4a0",
   "metadata": {},
   "outputs": [
    {
     "name": "stdout",
     "output_type": "stream",
     "text": [
      "Finished, Saved to CSV\n",
      "                               title original_price discount_price\n",
      "0  Call of Duty®: Modern Warfare® II          69.99          69.99\n",
      "1  Call of Duty®: Modern Warfare® II          69.99          69.99\n",
      "2                     Cyberpunk 2077          59.99          29.99\n",
      "3                         God of War          49.99          39.99\n",
      "4                         ELDEN RING          59.99          59.99\n"
     ]
    }
   ],
   "source": [
    "\n",
    "output(results)"
   ]
  },
  {
   "cell_type": "code",
   "execution_count": null,
   "id": "5805c815",
   "metadata": {},
   "outputs": [],
   "source": []
  },
  {
   "cell_type": "code",
   "execution_count": null,
   "id": "04c2e3da",
   "metadata": {},
   "outputs": [],
   "source": []
  }
 ],
 "metadata": {
  "kernelspec": {
   "display_name": "Python 3 (ipykernel)",
   "language": "python",
   "name": "python3"
  },
  "language_info": {
   "codemirror_mode": {
    "name": "ipython",
    "version": 3
   },
   "file_extension": ".py",
   "mimetype": "text/x-python",
   "name": "python",
   "nbconvert_exporter": "python",
   "pygments_lexer": "ipython3",
   "version": "3.9.12"
  }
 },
 "nbformat": 4,
 "nbformat_minor": 5
}
